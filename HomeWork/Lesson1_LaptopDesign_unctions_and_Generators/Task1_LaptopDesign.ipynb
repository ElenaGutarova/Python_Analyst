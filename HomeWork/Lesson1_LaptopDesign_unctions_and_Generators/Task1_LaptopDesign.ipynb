{
 "cells": [
  {
   "attachments": {},
   "cell_type": "markdown",
   "metadata": {},
   "source": [
    "#### Условие 2:\n",
    "__*Оформляйте ноутбук*__"
   ]
  },
  {
   "cell_type": "markdown",
   "metadata": {},
   "source": [
    "<table bgcolor='green' border=\"5\" bordercolor=\"red\">\n",
    "        <tr>        \n",
    "            <th></th>\n",
    "            <th>До события</th>\n",
    "            <th>Время события</th>\n",
    "        </tr>\n",
    "        <tr>\n",
    "            <td><b>1 контрольная точка</b></td><td>250</td><td>500</td>\n",
    "        </tr>\n",
    "        <tr>\n",
    "            <td><b>2 контрольная точка</b></td><td>350</td><td>700</td>\n",
    "        </tr>\n",
    "        <tr>\n",
    "            <td><b>3 контрольная точка</b></td><td>400</td><td>800</td>\n",
    "        </tr>\n",
    "        <tr>\n",
    "            <td></td><td></td><td></td>\n",
    "        </tr>\n",
    "        <tr>\n",
    "            <td><b>Итого за победу</b></td><td>1000</td><td>2000</td>\n",
    "        </tr>    \n",
    "    </table>"
   ]
  }
 ],
 "metadata": {
  "language_info": {
   "name": "python"
  },
  "orig_nbformat": 4
 },
 "nbformat": 4,
 "nbformat_minor": 2
}
