{
 "cells": [
  {
   "cell_type": "code",
   "execution_count": null,
   "metadata": {},
   "outputs": [],
   "source": [
    "import pandas as pd\n",
    "df = pd.read_csv('sample_data/california_housing_train.csv',sep='|')\n",
    "df[df['population']==df['population'].max()]['households'].min()\n",
    "df[df['population']<=500]['median_house_value'].diff()"
   ]
  }
 ],
 "metadata": {
  "kernelspec": {
   "display_name": "Python 3",
   "language": "python",
   "name": "python3"
  },
  "language_info": {
   "codemirror_mode": {
    "name": "ipython",
    "version": 3
   },
   "file_extension": ".py",
   "mimetype": "text/x-python",
   "name": "python",
   "nbconvert_exporter": "python",
   "pygments_lexer": "ipython3",
   "version": "3.11.3"
  },
  "orig_nbformat": 4,
  "vscode": {
   "interpreter": {
    "hash": "ff5cecc6ef373820708d368ae87bb42562275c3756c8d97c1ba00195a612be0b"
   }
  }
 },
 "nbformat": 4,
 "nbformat_minor": 2
}
