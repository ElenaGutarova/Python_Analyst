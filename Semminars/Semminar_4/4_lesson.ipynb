{
 "cells": [
  {
   "attachments": {},
   "cell_type": "markdown",
   "metadata": {},
   "source": [
    "1.1 Изучите количество памяти с помощью matplotlib\n",
    "\n",
    "1.2 Изучите стоимость ноутбуков с помощью matplotlib\n",
    "\n",
    "1.3 Изучите вес ноутбуков с помощью matplotlib\n",
    "\n",
    "Постройте график\n",
    "\n",
    "Назовите график\n",
    "\n",
    "Сделайте именование оси x и оси y\n",
    "\n",
    "Сделайте выводы"
   ]
  }
 ],
 "metadata": {
  "language_info": {
   "name": "python"
  },
  "orig_nbformat": 4
 },
 "nbformat": 4,
 "nbformat_minor": 2
}
