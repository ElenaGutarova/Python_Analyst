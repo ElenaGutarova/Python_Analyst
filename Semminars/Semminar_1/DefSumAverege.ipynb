{
 "cells": [
  {
   "attachments": {},
   "cell_type": "markdown",
   "metadata": {},
   "source": [
    "## Задание 5\n",
    "### 5.1 Найдите картинку в интернете и прикрепите её в ячейку с текстом"
   ]
  },
  {
   "attachments": {},
   "cell_type": "markdown",
   "metadata": {},
   "source": [
    "### 5.2 Создайте следующую таблицу в ячейке с текстом"
   ]
  },
  {
   "attachments": {},
   "cell_type": "markdown",
   "metadata": {},
   "source": [
    "<table bgcolor='green' border=\"5\" bordercolor=\"red\">\n",
    "        <tr>        \n",
    "            <th></th>\n",
    "            <th>До события</th>\n",
    "            <th>Время события</th>\n",
    "        </tr>\n",
    "        <tr>\n",
    "            <td><b>1 контрольная точка</b></td><td>250</td><td>500</td>\n",
    "        </tr>\n",
    "        <tr>\n",
    "            <td><b>2 контрольная точка</b></td><td>350</td><td>700</td>\n",
    "        </tr>\n",
    "        <tr>\n",
    "            <td><b>3 контрольная точка</b></td><td>400</td><td>800</td>\n",
    "        </tr>\n",
    "        <tr>\n",
    "            <td></td><td></td><td></td>\n",
    "        </tr>\n",
    "        <tr>\n",
    "            <td><b>Итого за победу</b></td><td>1000</td><td>2000</td>\n",
    "        </tr>    \n",
    "    </table>"
   ]
  },
  {
   "attachments": {},
   "cell_type": "markdown",
   "metadata": {},
   "source": [
    "## Задание 6\n",
    "### Напишите функцию, которая может принимать любое количество трат пользователя и считать сумму и среднее.\n",
    "    * На вход поступают целочисленные значения в любом количестве\n",
    "    * На выходе словарь с ключами суммы трат и средней траты"
   ]
  },
  {
   "cell_type": "code",
   "execution_count": 43,
   "metadata": {},
   "outputs": [],
   "source": [
    "def sum_and_mean(*args):\n",
    "    return {\n",
    "            \"sum\": sum(args),\n",
    "            \"mean\": sum(args)/len(args)\n",
    "        }"
   ]
  },
  {
   "cell_type": "code",
   "execution_count": 44,
   "metadata": {},
   "outputs": [
    {
     "data": {
      "text/plain": [
       "{'sum': 80, 'mean': 20.0}"
      ]
     },
     "execution_count": 44,
     "metadata": {},
     "output_type": "execute_result"
    }
   ],
   "source": [
    "sum_and_mean(5, 10, 15, 50)"
   ]
  },
  {
   "cell_type": "code",
   "execution_count": 45,
   "metadata": {},
   "outputs": [],
   "source": [
    "def sum_and_mean_2(*args):\n",
    "    summa = 0\n",
    "    num = 0\n",
    "    for el in args:\n",
    "        summa += el\n",
    "        num += 1\n",
    "    return {\n",
    "            \"sum\": summa,\n",
    "            \"mean\": summa/num\n",
    "    }"
   ]
  },
  {
   "cell_type": "code",
   "execution_count": 46,
   "metadata": {},
   "outputs": [
    {
     "data": {
      "text/plain": [
       "{'sum': 30, 'mean': 10.0}"
      ]
     },
     "execution_count": 46,
     "metadata": {},
     "output_type": "execute_result"
    }
   ],
   "source": [
    "sum_and_mean_2(5, 10, 15)"
   ]
  },
  {
   "cell_type": "code",
   "execution_count": 47,
   "metadata": {},
   "outputs": [],
   "source": [
    "def print_values(**kwargs):\n",
    "    for key, values in kwargs.items():\n",
    "        print(f\"Значение для {key} является {values}\")"
   ]
  },
  {
   "cell_type": "code",
   "execution_count": 48,
   "metadata": {},
   "outputs": [],
   "source": [
    "def print_values2(**kwargs):\n",
    "    {print(f\"Значение для {key} является {values}\") for key, values in kwargs.items()}"
   ]
  },
  {
   "cell_type": "code",
   "execution_count": 49,
   "metadata": {},
   "outputs": [
    {
     "name": "stdout",
     "output_type": "stream",
     "text": [
      "Значение для name_1 является Alex\n",
      "Значение для name_2 является Gray\n",
      "Значение для name_3 является Harper\n",
      "Значение для name_4 является Phoenix\n",
      "Значение для name_5 является Remy\n",
      "Значение для name_6 является Val\n"
     ]
    }
   ],
   "source": [
    "print_values2(\n",
    "    name_1=\"Alex\",\n",
    "    name_2=\"Gray\",\n",
    "    name_3=\"Harper\",\n",
    "    name_4=\"Phoenix\",\n",
    "    name_5=\"Remy\",\n",
    "    name_6=\"Val\"\n",
    ")"
   ]
  },
  {
   "cell_type": "code",
   "execution_count": 50,
   "metadata": {},
   "outputs": [],
   "source": [
    "def func(required_arg, *args,**kwargs):\n",
    "    print('r_a:', required_arg)\n",
    "    if args:\n",
    "        print('args: ', args)\n",
    "    if kwargs:\n",
    "        print('kwargs: ', kwargs)"
   ]
  },
  {
   "cell_type": "code",
   "execution_count": 51,
   "metadata": {},
   "outputs": [
    {
     "name": "stdout",
     "output_type": "stream",
     "text": [
      "r_a: required_arg\n",
      "args:  (1, 2)\n",
      "kwargs:  {'keyword': 4}\n"
     ]
    }
   ],
   "source": [
    "func('required_arg', 1,2, keyword=4)"
   ]
  },
  {
   "attachments": {},
   "cell_type": "markdown",
   "metadata": {},
   "source": [
    "### Треюования к ДЗ по заданию №4"
   ]
  },
  {
   "cell_type": "code",
   "execution_count": 52,
   "metadata": {},
   "outputs": [],
   "source": [
    "list_dates = ['2021-09-14', '2021-12-15', '2021-09-08', '2021-12-05', '2021-10-09', '2021-09-30', '2021-12-22', '2021-11-29', '2021-12-24', '2021-11-26', '2021-10-27', '2021-12-18', '2021-11-09', '2021-11-23', '2021-09-27', '2021-10-02', '2021-12-27', '2021-09-20', '2021-12-13', '2021-11-01', '2021-11-09', '2021-12-06', '2021-12-08', '2021-10-09', '2021-10-31', '2021-09-30', '2021-11-09', '2021-12-13', '2021-10-26', '2021-12-09']"
   ]
  },
  {
   "cell_type": "code",
   "execution_count": 53,
   "metadata": {},
   "outputs": [],
   "source": [
    "my_str = '2021-11-14'"
   ]
  },
  {
   "cell_type": "code",
   "execution_count": 54,
   "metadata": {},
   "outputs": [
    {
     "data": {
      "text/plain": [
       "['2021', '11', '14']"
      ]
     },
     "execution_count": 54,
     "metadata": {},
     "output_type": "execute_result"
    }
   ],
   "source": [
    "my_str.split('-')"
   ]
  },
  {
   "cell_type": "code",
   "execution_count": 55,
   "metadata": {},
   "outputs": [
    {
     "data": {
      "text/plain": [
       "'11'"
      ]
     },
     "execution_count": 55,
     "metadata": {},
     "output_type": "execute_result"
    }
   ],
   "source": [
    "my_str[5:7]"
   ]
  },
  {
   "cell_type": "code",
   "execution_count": 56,
   "metadata": {},
   "outputs": [],
   "source": [
    "_, month, _ = my_str.split('-')"
   ]
  },
  {
   "cell_type": "code",
   "execution_count": 57,
   "metadata": {},
   "outputs": [
    {
     "data": {
      "text/plain": [
       "'11'"
      ]
     },
     "execution_count": 57,
     "metadata": {},
     "output_type": "execute_result"
    }
   ],
   "source": [
    "month"
   ]
  }
 ],
 "metadata": {
  "kernelspec": {
   "display_name": "Python 3",
   "language": "python",
   "name": "python3"
  },
  "language_info": {
   "codemirror_mode": {
    "name": "ipython",
    "version": 3
   },
   "file_extension": ".py",
   "mimetype": "text/x-python",
   "name": "python",
   "nbconvert_exporter": "python",
   "pygments_lexer": "ipython3",
   "version": "3.11.3"
  },
  "orig_nbformat": 4
 },
 "nbformat": 4,
 "nbformat_minor": 2
}
